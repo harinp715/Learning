{
 "cells": [
  {
   "cell_type": "code",
   "execution_count": 39,
   "metadata": {
    "collapsed": false,
    "scrolled": false
   },
   "outputs": [],
   "source": [
    "import pandas as pd\n",
    "import numpy as np\n",
    "from sklearn.model_selection import train_test_split\n",
    "from sklearn.model_selection import cross_val_score\n",
    "from sklearn.ensemble import RandomForestClassifier\n",
    "\n",
    "df_train=pd.read_csv(\"train.csv\",header=0)\n",
    "df_train=df_train.iloc[:,:80]\n",
    "df_train.loc[:,\"flag\"]=0\n",
    "df_test=pd.read_csv(\"test.csv\",header=0)\n",
    "df_test.loc[:,\"flag\"]=1\n",
    "df=pd.concat([df_train,df_test])\n",
    "df.index=df.loc[:,'Id']"
   ]
  },
  {
   "cell_type": "markdown",
   "metadata": {},
   "source": [
    "## Creating dummy variables"
   ]
  },
  {
   "cell_type": "code",
   "execution_count": 40,
   "metadata": {
    "collapsed": false
   },
   "outputs": [
    {
     "name": "stderr",
     "output_type": "stream",
     "text": [
      "C:\\Users\\harin\\AppData\\Local\\Continuum\\Anaconda3\\lib\\site-packages\\ipykernel\\__main__.py:8: FutureWarning: using '-' to provide set differences with Indexes is deprecated, use .difference()\n"
     ]
    }
   ],
   "source": [
    "col_nos_dummies=('MSZoning', 'Street', 'Alley', 'LotShape', 'LandContour', 'Utilities',\n",
    "                 'LotConfig', 'LandSlope', 'Neighborhood', 'Condition1', 'Condition2', \n",
    "                 'BldgType', 'HouseStyle', 'RoofStyle', 'RoofMatl', 'Exterior1st', 'Exterior2nd',\n",
    "                 'MasVnrType', 'ExterQual', 'ExterCond', 'Foundation', 'BsmtQual', 'BsmtCond', 'BsmtExposure',\n",
    "                 'BsmtFinType1', 'BsmtFinType2', 'Heating', 'HeatingQC', 'CentralAir', 'Electrical', 'KitchenQual',\n",
    "                 'Functio0l', 'FireplaceQu', 'GarageType', 'GarageFinish', 'GarageQual', 'GarageCond', 'PavedDrive',\n",
    "                 'PoolQC', 'Fence', 'MiscFeature', 'SaleType', 'SaleCondition')\n",
    "col_nos_continuous=(df.columns-col_nos_dummies)\n",
    "df_categorical=pd.DataFrame(df.iloc[:,1:2])\n",
    "for i in range(len(col_nos_dummies)):\n",
    "    temp_df=pd.get_dummies(df.loc[:,col_nos_dummies[i]])\n",
    "    df_categorical=pd.concat([df_categorical,temp_df.iloc[:,1:]],axis=1)\n",
    "df_categorical=df_categorical.iloc[:,2:]\n",
    "df=pd.concat([df.loc[:,col_nos_continuous],df_categorical],axis=1)\n",
    "df=df.drop(['Id'],axis=1)"
   ]
  },
  {
   "cell_type": "markdown",
   "metadata": {},
   "source": [
    "## Random forest classifier"
   ]
  },
  {
   "cell_type": "code",
   "execution_count": 56,
   "metadata": {
    "collapsed": false
   },
   "outputs": [],
   "source": [
    "rf=RandomForestClassifier(min_samples_split=4,max_depth=6,min_samples_leaf=10)\n",
    "X_train=pd.DataFrame.as_matrix(df[df.flag==0])\n",
    "df_train=pd.read_csv(\"train.csv\",header=0)\n",
    "y_train=pd.DataFrame.as_matrix(df_train.loc[:,'SalePrice'])\n",
    "rf.fit(X_train,y_train)\n",
    "\n",
    "y_pred=rf.predict(X_train)\n",
    "df_1=pd.DataFrame(y_pred,y_train)\n",
    "df_1=df_1.reset_index()\n",
    "df_1.columns=[\"Predicted\",\"Actual\"]\n",
    "np.mean(abs(df_1.Predicted-df_1.Actual)/df_1.Actual)\n",
    "\n",
    "X_test=pd.DataFrame.as_matrix(df[df.flag==1])\n",
    "y_pred=rf.predict(X_test)\n",
    "y_pred=pd.Series(y_pred)\n",
    "y_pred.to_csv(\"result.csv\")"
   ]
  },
  {
   "cell_type": "markdown",
   "metadata": {
    "collapsed": false
   },
   "source": [
    "## Simple linear regression "
   ]
  },
  {
   "cell_type": "code",
   "execution_count": 61,
   "metadata": {
    "collapsed": false
   },
   "outputs": [],
   "source": [
    "from sklearn import datasets, linear_model\n",
    "from sklearn.metrics import mean_squared_error, r2_score\n",
    "\n",
    "regr = linear_model.LinearRegression()\n",
    "regr.fit(X_train,y_train)\n",
    "y_pred=regr.predict(X_test)\n",
    "y_pred=pd.Series(y_pred)\n",
    "y_pred.to_csv(\"result.csv\")"
   ]
  },
  {
   "cell_type": "markdown",
   "metadata": {},
   "source": [
    "## LASSO regression"
   ]
  },
  {
   "cell_type": "code",
   "execution_count": 85,
   "metadata": {
    "collapsed": false
   },
   "outputs": [
    {
     "name": "stderr",
     "output_type": "stream",
     "text": [
      "C:\\Users\\harin\\AppData\\Local\\Continuum\\Anaconda3\\lib\\site-packages\\sklearn\\linear_model\\coordinate_descent.py:491: ConvergenceWarning: Objective did not converge. You might want to increase the number of iterations. Fitting data with very small alpha may cause precision problems.\n",
      "  ConvergenceWarning)\n"
     ]
    }
   ],
   "source": [
    "from sklearn import linear_model\n",
    "clf = linear_model.Lasso(alpha=20,max_iter=10000)\n",
    "clf.fit(X_train,y_train)\n",
    "y_pred=clf.predict(X_test)\n",
    "y_pred=pd.Series(y_pred)\n",
    "y_pred.to_csv(\"result.csv\")"
   ]
  },
  {
   "cell_type": "code",
   "execution_count": 92,
   "metadata": {
    "collapsed": false
   },
   "outputs": [],
   "source": [
    "coef_lasso=pd.Series(clf.coef_,df.columns)"
   ]
  },
  {
   "cell_type": "code",
   "execution_count": 94,
   "metadata": {
    "collapsed": false
   },
   "outputs": [],
   "source": [
    "coef_lasso.to_csv(\"Analysis.csv\")"
   ]
  },
  {
   "cell_type": "code",
   "execution_count": null,
   "metadata": {
    "collapsed": true
   },
   "outputs": [],
   "source": []
  }
 ],
 "metadata": {
  "anaconda-cloud": {},
  "kernelspec": {
   "display_name": "Python [conda root]",
   "language": "python",
   "name": "conda-root-py"
  },
  "language_info": {
   "codemirror_mode": {
    "name": "ipython",
    "version": 3
   },
   "file_extension": ".py",
   "mimetype": "text/x-python",
   "name": "python",
   "nbconvert_exporter": "python",
   "pygments_lexer": "ipython3",
   "version": "3.5.2"
  }
 },
 "nbformat": 4,
 "nbformat_minor": 1
}
