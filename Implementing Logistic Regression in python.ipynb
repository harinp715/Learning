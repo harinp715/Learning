{
 "cells": [
  {
   "cell_type": "code",
   "execution_count": 1,
   "metadata": {
    "collapsed": false
   },
   "outputs": [
    {
     "name": "stdout",
     "output_type": "stream",
     "text": [
      "0.289473684211\n"
     ]
    },
    {
     "data": {
      "text/plain": [
       "array([ 0.61538462,  0.86842105,  0.83783784,  0.58333333])"
      ]
     },
     "execution_count": 1,
     "metadata": {},
     "output_type": "execute_result"
    }
   ],
   "source": [
    "import pandas as pd\n",
    "from sklearn.linear_model import LogisticRegression\n",
    "from sklearn.model_selection import train_test_split\n",
    "from sklearn.model_selection import cross_val_score\n",
    "import numpy as np\n",
    "from sklearn.datasets import load_iris\n",
    "\n",
    "df=load_iris()\n",
    "lr=LogisticRegression(multi_class='multinomial',solver='saga',max_iter=10000)\n",
    "X=df.data[:,1:]\n",
    "y=df.data[:,0]\n",
    "y=[round(i) for i in y]\n",
    "X_train, X_test, y_train, y_test = train_test_split(X,y,test_size=0.25)\n",
    "\n",
    "# Run the regression model\n",
    "lr.fit(X_train,y_train)\n",
    "\n",
    "# Generate the Y predicted\n",
    "y_predicted=lr.predict(X_test)\n",
    "\n",
    "print(sum(abs(y_predicted-y_test))/len(y_test))\n",
    "cross_val_score(cv=4,X=X,y=y,estimator=lr)"
   ]
  }
 ],
 "metadata": {
  "anaconda-cloud": {},
  "celltoolbar": "Raw Cell Format",
  "kernelspec": {
   "display_name": "Python [conda root]",
   "language": "python",
   "name": "conda-root-py"
  },
  "language_info": {
   "codemirror_mode": {
    "name": "ipython",
    "version": 3
   },
   "file_extension": ".py",
   "mimetype": "text/x-python",
   "name": "python",
   "nbconvert_exporter": "python",
   "pygments_lexer": "ipython3",
   "version": "3.5.2"
  }
 },
 "nbformat": 4,
 "nbformat_minor": 1
}
